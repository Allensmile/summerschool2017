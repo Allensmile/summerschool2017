{
 "cells": [
  {
   "cell_type": "markdown",
   "metadata": {},
   "source": [
    "This directory contain ipython notebooks for the Theano hands-on lab at the Montréal Deep Learning Summer School 2017.\n",
    "\n",
    "- index (this notebook): summary and links\n",
    "- [intro_theano](intro_theano.ipynb): companion notebook for the slides, with all the demonstrated code snippets\n",
    "- [Exercises](Exercises.ipynb): notebook that contain exercises specific to Theano without machine learning\n",
    "- [LeNet](lenet.ipynb): notebook that demonstrates training LeNet (basic convolutional example) on MNIST\n",
    "- [Reuse VGG16 features](Reuse VGG16 features.ipynb): notebook how to reuse VGG16 features to build a new classifier for 2 new classes\n",
    "\n",
    "The slides are available at https://github.com/mila-udem/summerschool2017/blob/master/theano.pdf\n",
    "\n",
    "The GitHub repository: https://github.com/mila-udem/summerschool2017/\n",
    "\n",
    "See the top of the notebook for explanation regarding how they should be used.\n",
    "\n",
    "You can run a cell that contains code with CTRL-enter when that cell is selected."
   ]
  }
 ],
 "metadata": {
  "kernelspec": {
   "display_name": "Python 2",
   "language": "python",
   "name": "python2"
  },
  "language_info": {
   "codemirror_mode": {
    "name": "ipython",
    "version": 2
   },
   "file_extension": ".py",
   "mimetype": "text/x-python",
   "name": "python",
   "nbconvert_exporter": "python",
   "pygments_lexer": "ipython2",
   "version": "2.7.13"
  }
 },
 "nbformat": 4,
 "nbformat_minor": 0
}
